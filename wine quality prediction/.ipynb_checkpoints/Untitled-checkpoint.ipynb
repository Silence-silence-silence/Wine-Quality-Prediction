{
 "cells": [
  {
   "cell_type": "code",
   "execution_count": 81,
   "id": "898966d8",
   "metadata": {},
   "outputs": [],
   "source": [
    "import numpy as np\n",
    "import matplotlib.pyplot as plt\n",
    "import mltools as ml\n",
    "import pandas as pd"
   ]
  },
  {
   "cell_type": "code",
   "execution_count": 82,
   "id": "24849dcf",
   "metadata": {},
   "outputs": [
    {
     "name": "stderr",
     "output_type": "stream",
     "text": [
      "D:\\anaconda\\lib\\site-packages\\pandas\\util\\_decorators.py:311: ParserWarning: Falling back to the 'python' engine because the 'c' engine does not support sep=None with delim_whitespace=False; you can avoid this warning by specifying engine='python'.\n",
      "  return func(*args, **kwargs)\n"
     ]
    },
    {
     "name": "stdout",
     "output_type": "stream",
     "text": [
      "red wine (1599, 12)\n",
      "white wine (4898, 12)\n"
     ]
    }
   ],
   "source": [
    "red = pd.read_csv('winequality/winequality-red.csv', sep = None)\n",
    "white = pd.read_csv('winequality/winequality-white.csv', sep = None)\n",
    "print (\"red wine\",red.shape)\n",
    "print (\"white wine\",white.shape)"
   ]
  },
  {
   "cell_type": "code",
   "execution_count": 83,
   "id": "bc1b9ddd",
   "metadata": {},
   "outputs": [
    {
     "name": "stdout",
     "output_type": "stream",
     "text": [
      "1599\n",
      "1599\n",
      "(1119, 11) (1119,) (480, 11) (480,)\n"
     ]
    }
   ],
   "source": [
    "red.head()\n",
    "red.drop(['free sulfur dioxide','pH','residual sugar'],axis=1)\n",
    "X = red.iloc[:,:-1].values\n",
    "print(len(X))\n",
    "\n",
    "\n",
    "y = red.iloc[:,-1].values\n",
    "print(len(y))\n",
    "\n",
    "\n",
    "from sklearn.preprocessing import minmax_scale\n",
    "from sklearn.model_selection import train_test_split\n",
    "from sklearn.preprocessing import StandardScaler\n",
    "import mltools as ml\n",
    "from sklearn.utils import shuffle\n",
    "sc = StandardScaler()\n",
    "X = sc.fit_transform(X)\n",
    "import seaborn as sns\n",
    "\n",
    "\n",
    "\n",
    "X, y = shuffle(X, y,random_state = 42)\n",
    "X_train,X_test,y_train,y_test = train_test_split(X, y, test_size=0.30, random_state=42)\n",
    "print (X_train.shape,y_train.shape,X_test.shape,y_test.shape)"
   ]
  },
  {
   "cell_type": "code",
   "execution_count": 84,
   "id": "078fc038",
   "metadata": {},
   "outputs": [
    {
     "name": "stdout",
     "output_type": "stream",
     "text": [
      "{'n_estimators': [200, 650, 1100, 1550, 2000], 'max_features': ['auto', 'sqrt'], 'max_depth': None, 'min_samples_split': [2, 5, 10, 60], 'min_samples_leaf': [1, 2, 4], 'bootstrap': [True, False]}\n"
     ]
    }
   ],
   "source": [
    "from sklearn.model_selection import RandomizedSearchCV\n",
    "# Number of trees in random forest\n",
    "n_estimators = [int(x) for x in np.linspace(start = 200, stop = 2000, num = 5)]\n",
    "# Number of features to consider at every split\n",
    "max_features = ['auto', 'sqrt']\n",
    "# Maximum number of levels in tree\n",
    "max_depth = None\n",
    "# Minimum number of samples required to split a node\n",
    "min_samples_split = [2, 5, 10,60]\n",
    "# Minimum number of samples required at each leaf node\n",
    "min_samples_leaf = [1, 2, 4]\n",
    "# Method of selecting samples for training each tree\n",
    "bootstrap = [True, False]\n",
    "# Create the random grid\n",
    "random_grid = {'n_estimators': n_estimators,\n",
    "               'max_features': max_features,\n",
    "               'max_depth': max_depth,\n",
    "               'min_samples_split': min_samples_split,\n",
    "               'min_samples_leaf': min_samples_leaf,\n",
    "               'bootstrap': bootstrap}\n",
    "print(random_grid)"
   ]
  },
  {
   "cell_type": "code",
   "execution_count": 85,
   "id": "ee3dcff0",
   "metadata": {},
   "outputs": [
    {
     "name": "stdout",
     "output_type": "stream",
     "text": [
      "Model Performance\n",
      "Average Error: 0.5729 degrees.\n",
      "Accuracy = 89.43%.\n",
      "Model Performance\n",
      "Average Error: 0.1948 degrees.\n",
      "Accuracy = 96.39%.\n",
      "Model Performance\n",
      "Average Error: 0.4917 degrees.\n",
      "Accuracy = 90.93%.\n",
      "Model Performance\n",
      "Average Error: 0.1801 degrees.\n",
      "Accuracy = 96.68%.\n",
      "Model Performance\n",
      "Average Error: 0.4806 degrees.\n",
      "Accuracy = 91.11%.\n",
      "Model Performance\n",
      "Average Error: 0.1772 degrees.\n",
      "Accuracy = 96.77%.\n",
      "Model Performance\n",
      "Average Error: 0.4771 degrees.\n",
      "Accuracy = 91.24%.\n",
      "Model Performance\n",
      "Average Error: 0.1763 degrees.\n",
      "Accuracy = 96.80%.\n",
      "Model Performance\n",
      "Average Error: 0.4600 degrees.\n",
      "Accuracy = 91.54%.\n",
      "Model Performance\n",
      "Average Error: 0.1755 degrees.\n",
      "Accuracy = 96.78%.\n",
      "Model Performance\n",
      "Average Error: 0.4573 degrees.\n",
      "Accuracy = 91.56%.\n",
      "Model Performance\n",
      "Average Error: 0.1738 degrees.\n",
      "Accuracy = 96.81%.\n",
      "Model Performance\n",
      "Average Error: 0.4565 degrees.\n",
      "Accuracy = 91.55%.\n",
      "Model Performance\n",
      "Average Error: 0.1720 degrees.\n",
      "Accuracy = 96.84%.\n",
      "Model Performance\n",
      "Average Error: 0.4622 degrees.\n",
      "Accuracy = 91.43%.\n",
      "Model Performance\n",
      "Average Error: 0.1718 degrees.\n",
      "Accuracy = 96.84%.\n",
      "Model Performance\n",
      "Average Error: 0.4567 degrees.\n",
      "Accuracy = 91.54%.\n",
      "Model Performance\n",
      "Average Error: 0.1694 degrees.\n",
      "Accuracy = 96.88%.\n",
      "Model Performance\n",
      "Average Error: 0.4558 degrees.\n",
      "Accuracy = 91.52%.\n",
      "Model Performance\n",
      "Average Error: 0.1687 degrees.\n",
      "Accuracy = 96.90%.\n",
      "Model Performance\n",
      "Average Error: 0.4442 degrees.\n",
      "Accuracy = 91.68%.\n",
      "Model Performance\n",
      "Average Error: 0.1643 degrees.\n",
      "Accuracy = 96.96%.\n",
      "Model Performance\n",
      "Average Error: 0.4419 degrees.\n",
      "Accuracy = 91.72%.\n",
      "Model Performance\n",
      "Average Error: 0.1621 degrees.\n",
      "Accuracy = 97.01%.\n",
      "Model Performance\n",
      "Average Error: 0.4407 degrees.\n",
      "Accuracy = 91.75%.\n",
      "Model Performance\n",
      "Average Error: 0.1595 degrees.\n",
      "Accuracy = 97.06%.\n",
      "Model Performance\n",
      "Average Error: 0.4423 degrees.\n",
      "Accuracy = 91.73%.\n",
      "Model Performance\n",
      "Average Error: 0.1592 degrees.\n",
      "Accuracy = 97.07%.\n",
      "Model Performance\n",
      "Average Error: 0.4390 degrees.\n",
      "Accuracy = 91.79%.\n",
      "Model Performance\n",
      "Average Error: 0.1582 degrees.\n",
      "Accuracy = 97.08%.\n",
      "Model Performance\n",
      "Average Error: 0.4383 degrees.\n",
      "Accuracy = 91.80%.\n",
      "Model Performance\n",
      "Average Error: 0.1581 degrees.\n",
      "Accuracy = 97.08%.\n",
      "Model Performance\n",
      "Average Error: 0.4374 degrees.\n",
      "Accuracy = 91.83%.\n",
      "Model Performance\n",
      "Average Error: 0.1586 degrees.\n",
      "Accuracy = 97.08%.\n",
      "Model Performance\n",
      "Average Error: 0.4345 degrees.\n",
      "Accuracy = 91.88%.\n",
      "Model Performance\n",
      "Average Error: 0.1583 degrees.\n",
      "Accuracy = 97.08%.\n",
      "Model Performance\n",
      "Average Error: 0.4346 degrees.\n",
      "Accuracy = 91.88%.\n",
      "Model Performance\n",
      "Average Error: 0.1573 degrees.\n",
      "Accuracy = 97.10%.\n",
      "Model Performance\n",
      "Average Error: 0.4324 degrees.\n",
      "Accuracy = 91.92%.\n",
      "Model Performance\n",
      "Average Error: 0.1556 degrees.\n",
      "Accuracy = 97.14%.\n",
      "Model Performance\n",
      "Average Error: 0.4323 degrees.\n",
      "Accuracy = 91.92%.\n",
      "Model Performance\n",
      "Average Error: 0.1553 degrees.\n",
      "Accuracy = 97.15%.\n",
      "Model Performance\n",
      "Average Error: 0.4319 degrees.\n",
      "Accuracy = 91.93%.\n",
      "Model Performance\n",
      "Average Error: 0.1555 degrees.\n",
      "Accuracy = 97.14%.\n"
     ]
    }
   ],
   "source": [
    "def evaluate(model, X_test, y_test):\n",
    "    predictions = model.predict(X_test)\n",
    "    errors = abs(predictions - y_test)\n",
    "    mape = 100 * np.mean(errors / y_test)\n",
    "    accuracy = 100 - mape\n",
    "    print('Model Performance')\n",
    "    print('Average Error: {:0.4f} degrees.'.format(np.mean(errors)))\n",
    "    print('Accuracy = {:0.2f}%.'.format(accuracy))\n",
    "    \n",
    "    return accuracy\n",
    "\n",
    "from sklearn.ensemble import RandomForestRegressor\n",
    "\n",
    "k = [1,2,3,4,5,6,7,8,9,10,20,30,40,50,60,70,80,100,200,600,1000,2000]\n",
    "acc = []\n",
    "acc1 = []\n",
    "for i in k:\n",
    "    base_model = RandomForestRegressor(n_estimators = i, random_state = 42)\n",
    "    base_model.fit(X_train, y_train)\n",
    "    base_accuracy = evaluate(base_model, X_test,y_test)\n",
    "    base_accuracy1 = evaluate(base_model, X_train,y_train)\n",
    "    \n",
    "    \n",
    "    acc1.append(base_accuracy1)\n",
    "    acc.append(base_accuracy)\n",
    "\n",
    "    \n",
    "\n"
   ]
  },
  {
   "cell_type": "code",
   "execution_count": 86,
   "id": "f445a403",
   "metadata": {},
   "outputs": [
    {
     "data": {
      "image/png": "[encoded data removed]",
      "text/plain": [
       "<Figure size 720x576 with 1 Axes>"
      ]
     },
     "metadata": {
      "needs_background": "light"
     },
     "output_type": "display_data"
    }
   ],
   "source": [
    "f, ax = plt.subplots(1, 1, figsize=(10, 8))\n",
    "\n",
    "\n",
    "\n",
    "ax.semilogy(k, acc1, lw=4, marker='d', markersize=10, alpha=0.75,label='training AUC')\n",
    "ax.semilogy(k, acc, lw=4, marker='d', markersize=10, alpha=0.75,label='validation AUC')\n",
    "\n",
    "\n",
    "\n",
    "ax.legend(fontsize=20,loc=0)\n",
    "plt.show()"
   ]
  },
  {
   "cell_type": "code",
   "execution_count": 87,
   "id": "6e7cde7b",
   "metadata": {},
   "outputs": [
    {
     "name": "stdout",
     "output_type": "stream",
     "text": [
      "[89.42857142857143, 90.93266369047619, 91.11168981481481, 91.23803323412699, 91.54345238095237, 91.55844907407408, 91.5547052154195, 91.42506820436508, 91.53648589065256, 91.52299107142858, 91.67922867063493, 91.71996527777777, 91.74869171626985, 91.72506448412699, 91.78933118386243, 91.8047867063492, 91.82936817956349, 91.88276537698412, 91.88379092261904, 91.92367022156084, 91.92271726190476, 91.93071887400794]\n"
     ]
    }
   ],
   "source": [
    "print(acc)"
   ]
  },
  {
   "cell_type": "code",
   "execution_count": 88,
   "id": "6d7266af",
   "metadata": {},
   "outputs": [],
   "source": [
    "# Importing the neccesary libraries we are going to need\n",
    "import numpy as np\n",
    "import pandas as pd\n",
    "import matplotlib.pyplot as plt\n",
    "import seaborn as sns\n",
    "from sklearn.linear_model import LogisticRegression\n",
    "from sklearn import metrics\n",
    "from sklearn.metrics import confusion_matrix\n",
    "from sklearn.preprocessing import StandardScaler\n",
    "from sklearn.model_selection import train_test_split"
   ]
  },
  {
   "cell_type": "code",
   "execution_count": null,
   "id": "c67801de",
   "metadata": {},
   "outputs": [],
   "source": []
  },
  {
   "cell_type": "code",
   "execution_count": 89,
   "id": "7d4fdeef",
   "metadata": {},
   "outputs": [
    {
     "data": {
      "text/plain": [
       "LogisticRegression()"
      ]
     },
     "execution_count": 89,
     "metadata": {},
     "output_type": "execute_result"
    }
   ],
   "source": [
    "\n",
    "reg = LogisticRegression( tol=0.0001) \n",
    "reg.fit(X_train,y_train)"
   ]
  },
  {
   "cell_type": "code",
   "execution_count": 90,
   "id": "318a4bb1",
   "metadata": {},
   "outputs": [],
   "source": [
    "y_hat = reg.predict(X_test)"
   ]
  },
  {
   "cell_type": "code",
   "execution_count": 91,
   "id": "9d2bb59d",
   "metadata": {},
   "outputs": [
    {
     "data": {
      "text/plain": [
       "0.5645833333333333"
      ]
     },
     "execution_count": 91,
     "metadata": {},
     "output_type": "execute_result"
    }
   ],
   "source": [
    "acc = metrics.accuracy_score(y_hat,y_test)\n",
    "acc"
   ]
  },
  {
   "cell_type": "code",
   "execution_count": null,
   "id": "52a2007e",
   "metadata": {},
   "outputs": [],
   "source": []
  }
 ],
 "metadata": {
  "kernelspec": {
   "display_name": "Python 3 (ipykernel)",
   "language": "python",
   "name": "python3"
  },
  "language_info": {
   "codemirror_mode": {
    "name": "ipython",
    "version": 3
   },
   "file_extension": ".py",
   "mimetype": "text/x-python",
   "name": "python",
   "nbconvert_exporter": "python",
   "pygments_lexer": "ipython3",
   "version": "3.9.7"
  }
 },
 "nbformat": 4,
 "nbformat_minor": 5
}
